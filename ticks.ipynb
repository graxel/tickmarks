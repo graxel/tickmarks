{
 "cells": [
  {
   "cell_type": "code",
   "execution_count": 8,
   "metadata": {},
   "outputs": [],
   "source": [
    "import math\n",
    "\n",
    "def decomp(number):\n",
    "    '''\n",
    "    decomp(number)\n",
    "    \n",
    "    decomp() breaks a number up into its significand and base-10 exponent, as it would be \n",
    "    displayed in scientific notation.\n",
    "    \n",
    "    ex. decomp(1024) => 1.024, 3\n",
    "    '''\n",
    "    \n",
    "    if number == 0:\n",
    "        significand = 0\n",
    "        exponent = 0\n",
    "    else:    \n",
    "        logarithm = math.log10(abs(number))\n",
    "        mantissa, exponent = math.modf(logarithm)\n",
    "        if logarithm < 0:\n",
    "            mantissa += 1\n",
    "            exponent -= 1\n",
    "        significand = math.copysign(math.pow(10, mantissa),number)\n",
    "    return significand, int(exponent)\n",
    "\n",
    "\n",
    "def sigfigs(number, sig_figs=8):\n",
    "    '''\n",
    "    sigfigs(number, sig_figs=8)\n",
    "    \n",
    "    sigfigs() returns a number rounded to a specified number of significant figures. Default \n",
    "    number of significant figures is 8.\n",
    "    \n",
    "    This can be useful when dealing with the results of floating point operations.\n",
    "    \n",
    "    ex. sigfigs(0.500000000001) => 0.5\n",
    "    '''\n",
    "    if number == 0:\n",
    "        return 0\n",
    "    exponent = math.floor(math.log10(abs(number)))\n",
    "    decimal_places = sig_figs - exponent - 1\n",
    "    return eval(('{:.'+str(decimal_places)+'f}').format(number))\n",
    "\n",
    "\n",
    "def ticks(data_points, padding=0.0, steps_constraint=+5, preferred_number_series=[1,2,5], ticks_at_edge=True):\n",
    "    '''\n",
    "        ticks(data_points, padding=0.1, steps_constraint=+5, preferred_number_series=[1,2,5],\n",
    "              ticks_at_edge=True)\n",
    "        \n",
    "        ticks() takes a list of values and returns optimal tick values as a list of floats.\n",
    "        This is useful when plotting values on a graph or chart.\n",
    "\n",
    "        It takes the following arguments:\n",
    "            data_points : A list of numbers. If data_points has length 0, ticks() returns\n",
    "                [0]. If data_points has length 1, ticks() returns data_points.\n",
    "\n",
    "            padding : A list of one or two numbers, a tuple of one or two numbers, or a \n",
    "                single number. If padding has length 2, the index 0 value is used for the\n",
    "                lower padding, and the index 1 value is used for the higher padding. If\n",
    "                padding has length 1, or is just a number, the one value is used for both\n",
    "                the lower padding and the higher padding. Default value is 0.1.\n",
    "\n",
    "                ex. For a dataset ranging from 100 to 200 with lower padding = 0.1 and \n",
    "                higher padding = 0.3, the padded range used would be 90 to 230.\n",
    "\n",
    "            steps_constraint : A nonzero integer. If positive, specifies the lower bound on \n",
    "                number of tickmarks. If negative, specifies the upper bound on number of \n",
    "                tickmarks. Default value is +5.\n",
    "\n",
    "                ex. +5 for 5 or more tickmarks\n",
    "                ex. -10 for 10 or fewer tickmarks\n",
    "\n",
    "            preferred_number_series : A list of floats or integers. The series of possible \n",
    "                significands to be used as the spacing between tickmarks. Must not span\n",
    "                more than a single decade. Default value is [1, 2, 5].\n",
    "                \n",
    "            ticks_at_edge : Boolean. If true, sets tickmarks at top and bottom edges of plot,\n",
    "                with some outside of padded range. If false, plot edges are assumed to be at\n",
    "                extremes of padded range, with all tickmarks inside padded range. Default\n",
    "                value is true.\n",
    "                \n",
    "    '''\n",
    "\n",
    "    if len(data_points) == 0:\n",
    "        return [0]\n",
    "\n",
    "    if len(data_points) == 1:\n",
    "        return data_points\n",
    "\n",
    "    if (type(padding) == type(tuple())) | (type(padding) == type(list())): # test if padding is a tuple or a list\n",
    "        if len(padding) == 2:\n",
    "            low_padding = padding[0]\n",
    "            high_padding = padding[1]\n",
    "        elif len(padding) == 1:\n",
    "            low_padding = padding[0]\n",
    "            high_padding = padding[0]\n",
    "        else:\n",
    "            raise Exception('Error with padding parameter length.',padding)\n",
    "    elif (type(padding) == type(int())) | (type(padding) == type(float())): # test if padding is an int or a float\n",
    "        low_padding = padding\n",
    "        high_padding = padding\n",
    "    else:\n",
    "        raise Exception('Error with padding parameter type.',padding)\n",
    "    \n",
    "    if (steps_constraint == 0) | (steps_constraint != int(steps_constraint)):\n",
    "        raise Exception('Error: steps_constraint must be a non-zero integer.',steps_constraint)\n",
    "    \n",
    "    if (max(preferred_number_series)/min(preferred_number_series)) > 10:\n",
    "        raise Exception('Error: preferred_number_series must span less than one decade.',preferred_number_series)\n",
    "    \n",
    "    data_high = max(data_points)\n",
    "    data_low = min(data_points)\n",
    "    data_range = data_high - data_low\n",
    "\n",
    "    padded_low = data_low - (data_range*low_padding)\n",
    "    padded_high = data_high + (data_range*high_padding)\n",
    "    padded_range = padded_high - padded_low\n",
    "\n",
    "\n",
    "    data_low_sig, data_low_exp = decomp(data_low)\n",
    "    data_high_sig, data_high_exp = decomp(data_high)\n",
    "    data_range_sig, data_range_exp = decomp(data_range)\n",
    "\n",
    "    padded_low_sig, padded_low_exp = decomp(padded_low)\n",
    "    padded_high_sig, padded_high_exp = decomp(padded_high)\n",
    "    padded_range_sig, padded_range_exp = decomp(padded_range)\n",
    "\n",
    "    step_size_at_constraint = padded_range/abs(steps_constraint)\n",
    "\n",
    "    con_step_size_sig, step_size_exp = decomp(step_size_at_constraint)\n",
    "\n",
    "    poss_step_sizes = []\n",
    "\n",
    "    if steps_constraint > 0:\n",
    "        # See where the significand of the max step size falls in the preferred numbers list\n",
    "        # being the MAX step size, take any preferred numbers that are greater and divide them by ten\n",
    "        for preferred_number in preferred_number_series:\n",
    "            if math.isclose(preferred_number, con_step_size_sig, rel_tol=1e-08, abs_tol=0.0): # test for equality\n",
    "                poss_step_sizes.append(preferred_number)\n",
    "            elif preferred_number < con_step_size_sig: # test if preferred number is less\n",
    "                poss_step_sizes.append(preferred_number)\n",
    "            else:\n",
    "                poss_step_sizes.append(preferred_number/10) # otherwise adjust so that it IS less\n",
    "        poss_step_sizes.sort(reverse=False) # sort for the following poss_step_sizes loop\n",
    "        \n",
    "        # see how many steps each possible step size would give\n",
    "        best_steps_so_far = float('Inf')\n",
    "        for poss_step_size_sig in poss_step_sizes:\n",
    "            step_size = poss_step_size_sig * 10**step_size_exp\n",
    "            num_steps = int(padded_range / step_size)\n",
    "            if (num_steps >= abs(steps_constraint)) & (num_steps < best_steps_so_far):\n",
    "                best_steps_so_far = num_steps\n",
    "                best_step_size_so_far = step_size\n",
    "\n",
    "    if steps_constraint < 0:\n",
    "        # See where the significand of the min step size falls in the preferred numbers list\n",
    "        # being the MIN step size, take any preferred numbers that are less and multiply them by ten\n",
    "        for preferred_number in preferred_number_series:\n",
    "            if math.isclose(preferred_number, con_step_size_sig, rel_tol=1e-08, abs_tol=0.0): # test for equality\n",
    "                poss_step_sizes.append(preferred_number)\n",
    "            elif preferred_number > con_step_size_sig: # test if preferred number is greater\n",
    "                poss_step_sizes.append(preferred_number)\n",
    "            else:\n",
    "                poss_step_sizes.append(preferred_number*10) # otherwise adjust so that it IS greater\n",
    "        poss_step_sizes.sort(reverse=True) # sort for the following poss_step_sizes loop\n",
    "\n",
    "        # see how many steps each possible step size would give\n",
    "        best_steps_so_far = 0\n",
    "        for poss_step_size_sig in poss_step_sizes:\n",
    "            step_size = poss_step_size_sig * 10**step_size_exp\n",
    "            num_steps = int(padded_range / step_size)\n",
    "            if (num_steps <= abs(steps_constraint)) & (num_steps > best_steps_so_far):\n",
    "                best_steps_so_far = num_steps\n",
    "                best_step_size_so_far = step_size        \n",
    "\n",
    "    num_steps = best_steps_so_far\n",
    "    step_size = best_step_size_so_far\n",
    "\n",
    "    # building tick list\n",
    "    mult = 0\n",
    "    ticklist = []\n",
    "    \n",
    "    if ticks_at_edge == True:\n",
    "        bottom_tick = math.floor(padded_low/step_size)*step_size\n",
    "        top_tick = math.ceil(padded_high/step_size)*step_size\n",
    "    else:\n",
    "        bottom_tick = math.ceil(padded_low/step_size)*step_size\n",
    "        top_tick = math.floor(padded_high/step_size)*step_size\n",
    "\n",
    "    # Use sigfigs function to avoid the perils of floating point operations!\n",
    "    while sigfigs(bottom_tick + mult*step_size) < sigfigs(top_tick):\n",
    "        ticklist.append(sigfigs(bottom_tick + mult*step_size))\n",
    "        mult += 1\n",
    "    ticklist.append(sigfigs(top_tick))\n",
    "\n",
    "    return ticklist"
   ]
  },
  {
   "cell_type": "code",
   "execution_count": 9,
   "metadata": {},
   "outputs": [
    {
     "data": {
      "text/plain": [
       "[-180, -135, -90, -45, 0, 45, 90, 135, 180]"
      ]
     },
     "execution_count": 9,
     "metadata": {},
     "output_type": "execute_result"
    }
   ],
   "source": [
    "[int(t) for t in ticks(data_points=[-180,180], steps_constraint=8, \n",
    "                       preferred_number_series=[1, 1.5, 2, 3, 4.5, 6, 9], ticks_at_edge=True)]\n",
    "\n"
   ]
  },
  {
   "cell_type": "code",
   "execution_count": 10,
   "metadata": {},
   "outputs": [
    {
     "data": {
      "text/plain": [
       "[1000, 1500, 2000, 2500]"
      ]
     },
     "execution_count": 10,
     "metadata": {},
     "output_type": "execute_result"
    }
   ],
   "source": [
    "[int(t) for t in ticks(data_points=[2880,640], steps_constraint=3, ticks_at_edge=False)]"
   ]
  },
  {
   "cell_type": "code",
   "execution_count": 4,
   "metadata": {},
   "outputs": [
    {
     "data": {
      "text/plain": [
       "-0.11607142857142858"
      ]
     },
     "execution_count": 4,
     "metadata": {},
     "output_type": "execute_result"
    }
   ],
   "source": [
    "(431-171)/(640-2880)"
   ]
  },
  {
   "cell_type": "code",
   "execution_count": 5,
   "metadata": {},
   "outputs": [
    {
     "data": {
      "text/plain": [
       "157.0714142857143"
      ]
     },
     "execution_count": 5,
     "metadata": {},
     "output_type": "execute_result"
    }
   ],
   "source": [
    "(3000)*-0.11607142857142858 + 505.2857"
   ]
  },
  {
   "cell_type": "code",
   "execution_count": 6,
   "metadata": {},
   "outputs": [
    {
     "data": {
      "text/plain": [
       "545.2306461538464"
      ]
     },
     "execution_count": 6,
     "metadata": {},
     "output_type": "execute_result"
    }
   ],
   "source": [
    "((442) - 505.2857) / -0.11607142857142858"
   ]
  },
  {
   "cell_type": "code",
   "execution_count": 22,
   "metadata": {},
   "outputs": [
    {
     "data": {
      "text/plain": [
       "[2.2, 2.4, 2.6, 2.8, 3.0, 3.2, 3.4, 3.6, 3.8]"
      ]
     },
     "execution_count": 22,
     "metadata": {},
     "output_type": "execute_result"
    }
   ],
   "source": [
    "ticks([2.4, 2.2, 3.3, 3.7, 2.9, 3.2])"
   ]
  },
  {
   "cell_type": "code",
   "execution_count": null,
   "metadata": {},
   "outputs": [],
   "source": []
  }
 ],
 "metadata": {
  "kernelspec": {
   "display_name": "Python 3",
   "language": "python",
   "name": "python3"
  },
  "language_info": {
   "codemirror_mode": {
    "name": "ipython",
    "version": 3
   },
   "file_extension": ".py",
   "mimetype": "text/x-python",
   "name": "python",
   "nbconvert_exporter": "python",
   "pygments_lexer": "ipython3",
   "version": "3.7.1"
  }
 },
 "nbformat": 4,
 "nbformat_minor": 2
}
